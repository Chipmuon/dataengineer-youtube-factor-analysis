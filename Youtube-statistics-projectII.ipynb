{
 "cells": [
  {
   "cell_type": "code",
   "execution_count": 0,
   "metadata": {
    "application/vnd.databricks.v1+cell": {
     "cellMetadata": {
      "byteLimit": 2048000,
      "rowLimit": 10000
     },
     "inputWidgets": {},
     "nuid": "1e15d8ea-cea4-4a91-9556-45d598390d54",
     "showTitle": false,
     "title": ""
    }
   },
   "outputs": [],
   "source": [
    "import pandas as pd\n",
    "import os\n",
    "from pyspark.sql.functions import *"
   ]
  },
  {
   "cell_type": "code",
   "execution_count": 0,
   "metadata": {
    "application/vnd.databricks.v1+cell": {
     "cellMetadata": {
      "byteLimit": 2048000,
      "rowLimit": 10000
     },
     "inputWidgets": {},
     "nuid": "07410830-8ad4-4ede-ba8e-a70f63e63650",
     "showTitle": false,
     "title": ""
    }
   },
   "outputs": [],
   "source": [
    "def child_struct(nested_df):\n",
    "    # Creating python list to store dataframe metadata\n",
    "    list_schema = [((), nested_df)]\n",
    "    # Creating empty python list for final flattern columns\n",
    "    flat_columns = []\n",
    "\n",
    "    while len(list_schema) > 0:\n",
    "      # Removing latest or recently added item (dataframe schema) and returning into df variable  \n",
    "          parents, df = list_schema.pop()\n",
    "          flat_cols = [  col(\".\".join(parents + (c[0],))).alias(\"_\".join(parents + (c[0],))) for c in df.dtypes if c[1][:6] != \"struct\"   ]\n",
    "      \n",
    "          struct_cols = [  c[0]   for c in df.dtypes if c[1][:6] == \"struct\"   ]\n",
    "      \n",
    "          flat_columns.extend(flat_cols)\n",
    "          #Reading  nested columns and appending into stack list\n",
    "          for i in struct_cols:\n",
    "                projected_df = df.select(i + \".*\")\n",
    "                list_schema.append((parents + (i,), projected_df))\n",
    "    return nested_df.select(flat_columns)"
   ]
  },
  {
   "cell_type": "code",
   "execution_count": 0,
   "metadata": {
    "application/vnd.databricks.v1+cell": {
     "cellMetadata": {
      "byteLimit": 2048000,
      "rowLimit": 10000
     },
     "inputWidgets": {},
     "nuid": "34e08c12-5be0-4983-a2cf-bfa00fff3068",
     "showTitle": false,
     "title": ""
    }
   },
   "outputs": [],
   "source": [
    "def master_array(df):\n",
    "    array_cols = [c[0] for c in df.dtypes if c[1][:5]==\"array\"]\n",
    "    while len(array_cols)>0:\n",
    "        for c in array_cols:\n",
    "            df = df.withColumn(c,explode_outer(c))\n",
    "        df = child_struct(df)\n",
    "        array_cols = [c[0] for c in df.dtypes if c[1][:5]==\"array\"]\n",
    "    return df"
   ]
  },
  {
   "cell_type": "markdown",
   "metadata": {
    "application/vnd.databricks.v1+cell": {
     "cellMetadata": {
      "byteLimit": 2048000,
      "rowLimit": 10000
     },
     "inputWidgets": {},
     "nuid": "07e5450a-30ef-4918-8c85-bf778c5e3ee9",
     "showTitle": false,
     "title": ""
    }
   },
   "source": [
    "## Doing transformation for all json file\n"
   ]
  },
  {
   "cell_type": "code",
   "execution_count": 0,
   "metadata": {
    "application/vnd.databricks.v1+cell": {
     "cellMetadata": {
      "byteLimit": 2048000,
      "rowLimit": 10000
     },
     "inputWidgets": {},
     "nuid": "b82bb74e-5947-4776-9213-69aa5bf2679c",
     "showTitle": false,
     "title": ""
    }
   },
   "outputs": [],
   "source": [
    "dir = \"/mnt/youtube_da2/transformed-data/youtube/cleaned_json_ver\"\n",
    "def file_exists(dir):\n",
    "  try:\n",
    "    dbutils.fs.ls(dir)\n",
    "  except:\n",
    "    return False  \n",
    "  return True"
   ]
  },
  {
   "cell_type": "code",
   "execution_count": 0,
   "metadata": {
    "application/vnd.databricks.v1+cell": {
     "cellMetadata": {
      "byteLimit": 2048000,
      "rowLimit": 10000
     },
     "inputWidgets": {},
     "nuid": "3b99914d-5ec5-4f7b-919a-4ef4d01b47c6",
     "showTitle": false,
     "title": ""
    }
   },
   "outputs": [
    {
     "output_type": "display_data",
     "data": {
      "text/html": [
       "<style scoped>\n",
       "  .ansiout {\n",
       "    display: block;\n",
       "    unicode-bidi: embed;\n",
       "    white-space: pre-wrap;\n",
       "    word-wrap: break-word;\n",
       "    word-break: break-all;\n",
       "    font-family: \"Menlo\", \"Monaco\", \"Consolas\", \"Ubuntu Mono\", \"Source Code Pro\", monospace;\n",
       "    font-size: 13px;\n",
       "    color: #555;\n",
       "    margin-left: 4px;\n",
       "    line-height: 19px;\n",
       "  }\n",
       "</style>\n",
       "<div class=\"ansiout\">res0: Boolean = true\n",
       "</div>"
      ]
     },
     "metadata": {
      "application/vnd.databricks.v1+output": {
       "addedWidgets": {},
       "arguments": {},
       "data": "<div class=\"ansiout\">res0: Boolean = true\n</div>",
       "datasetInfos": [],
       "metadata": {
        "isDbfsCommandResult": false
       },
       "removedWidgets": [],
       "type": "html"
      }
     },
     "output_type": "display_data"
    }
   ],
   "source": [
    "%fs rm -r \"/mnt/youtube_da2/transformed-data/youtube/cleaned_json_ver\""
   ]
  },
  {
   "cell_type": "code",
   "execution_count": 0,
   "metadata": {
    "application/vnd.databricks.v1+cell": {
     "cellMetadata": {
      "byteLimit": 2048000,
      "rowLimit": 10000
     },
     "inputWidgets": {},
     "nuid": "3ecb84a1-5b79-4e03-b530-924ea46eaa94",
     "showTitle": false,
     "title": ""
    }
   },
   "outputs": [],
   "source": [
    "import os\n",
    "\n",
    "if os.path.exists(\"/mnt/table_name\"):\n",
    "    os.remove(\"/mnt/table_name\")"
   ]
  },
  {
   "cell_type": "code",
   "execution_count": 0,
   "metadata": {
    "application/vnd.databricks.v1+cell": {
     "cellMetadata": {
      "byteLimit": 2048000,
      "rowLimit": 10000
     },
     "inputWidgets": {},
     "nuid": "5036ac3a-c677-4959-a62a-7271dfaf1f0e",
     "showTitle": false,
     "title": ""
    }
   },
   "outputs": [],
   "source": [
    "table_name = []\n",
    "\n",
    "for i in dbutils.fs.ls('/mnt/youtube_da2/raw-data-json/ raw_statistics_reference_data/archive/'):\n",
    "    table_name.append(i.name.split('/')[0].split('.')[0])\n"
   ]
  },
  {
   "cell_type": "code",
   "execution_count": 0,
   "metadata": {
    "application/vnd.databricks.v1+cell": {
     "cellMetadata": {
      "byteLimit": 2048000,
      "rowLimit": 10000
     },
     "inputWidgets": {},
     "nuid": "dcaf294a-4b13-4801-89d4-84c84a3e2459",
     "showTitle": false,
     "title": ""
    }
   },
   "outputs": [
    {
     "output_type": "execute_result",
     "data": {
      "text/plain": [
       "['CA_category_id',\n",
       " 'DE_category_id',\n",
       " 'GB_category_id',\n",
       " 'JP_category_id',\n",
       " 'KR_category_id',\n",
       " 'US_category_id']"
      ]
     },
     "execution_count": 7,
     "metadata": {},
     "output_type": "execute_result"
    }
   ],
   "source": [
    "table_name"
   ]
  },
  {
   "cell_type": "code",
   "execution_count": 0,
   "metadata": {
    "application/vnd.databricks.v1+cell": {
     "cellMetadata": {
      "byteLimit": 2048000,
      "rowLimit": 10000
     },
     "inputWidgets": {},
     "nuid": "621ed8bc-7edb-4370-8bc2-2a6fe4d961c5",
     "showTitle": false,
     "title": ""
    }
   },
   "outputs": [],
   "source": [
    "spark.conf.set(\"spark.sql.sources.commitProtocolClass\", \"org.apache.spark.sql.execution.datasources.SQLHadoopMapReduceCommitProtocol\")\n",
    "\n",
    "spark.conf.set(\"parquet.enable.summary-metadata\", \"false\")\n",
    "\n",
    "spark.conf.set(\"mapreduce.fileoutputcommitter.marksuccessfuljobs\", \"false\")"
   ]
  },
  {
   "cell_type": "code",
   "execution_count": 0,
   "metadata": {
    "application/vnd.databricks.v1+cell": {
     "cellMetadata": {
      "byteLimit": 2048000,
      "rowLimit": 10000
     },
     "inputWidgets": {},
     "nuid": "9c441958-a9b9-4d1e-adba-bc5a922ceba1",
     "showTitle": false,
     "title": ""
    }
   },
   "outputs": [],
   "source": [
    "output_path = '/mnt/youtube_da2/transformed-data/youtube/cleaned_json_ver'\n",
    "\n",
    "for i in table_name:\n",
    "    path = '/mnt/youtube_da2/raw-data-json/ raw_statistics_reference_data/archive/' + i +'.json'\n",
    "    df = spark.read.option(\"multiline\",\"true\").json(path)\n",
    "    df_remove = df.drop('etag','kind')\n",
    "\n",
    "    df_output = master_array(df_remove)\n",
    "    df_output.write.format('parquet').mode(\"overwrite\").save(output_path)\n"
   ]
  },
  {
   "cell_type": "code",
   "execution_count": 0,
   "metadata": {
    "application/vnd.databricks.v1+cell": {
     "cellMetadata": {
      "byteLimit": 2048000,
      "rowLimit": 10000
     },
     "inputWidgets": {},
     "nuid": "450bbdf1-3ac4-4a61-9ad8-d737e0790483",
     "showTitle": false,
     "title": ""
    }
   },
   "outputs": [
    {
     "output_type": "execute_result",
     "data": {
      "text/plain": [
       "True"
      ]
     },
     "execution_count": 10,
     "metadata": {},
     "output_type": "execute_result"
    }
   ],
   "source": [
    "# Get the list of files in the specified directory\n",
    "file_list = dbutils.fs.ls(output_path)\n",
    "\n",
    "# Filter files that start with \"part-00000\"\n",
    "filtered_files = [file for file in file_list if file.name.startswith(\"part-00000\")]\n",
    "\n",
    "# Get the path of the first matching file\n",
    "source_path = filtered_files[0].path\n",
    "\n",
    "# Move the file to the new destination\n",
    "destination_path = output_path + \"/data.parquet\"\n",
    "dbutils.fs.mv(source_path, destination_path)"
   ]
  },
  {
   "cell_type": "code",
   "execution_count": 0,
   "metadata": {
    "application/vnd.databricks.v1+cell": {
     "cellMetadata": {
      "byteLimit": 2048000,
      "rowLimit": 10000
     },
     "inputWidgets": {},
     "nuid": "7349be0d-b400-4906-8178-bf08989ac651",
     "showTitle": false,
     "title": ""
    }
   },
   "outputs": [],
   "source": [
    "df_output = df_output.withColumn(\"items_id\", df_output['items_id'].cast('int'))"
   ]
  },
  {
   "cell_type": "code",
   "execution_count": 0,
   "metadata": {
    "application/vnd.databricks.v1+cell": {
     "cellMetadata": {
      "byteLimit": 2048000,
      "rowLimit": 10000
     },
     "inputWidgets": {},
     "nuid": "189d3ff6-33b6-459c-a457-29c28518b48b",
     "showTitle": false,
     "title": ""
    }
   },
   "outputs": [
    {
     "output_type": "display_data",
     "data": {
      "text/html": [
       "<style scoped>\n",
       "  .table-result-container {\n",
       "    max-height: 300px;\n",
       "    overflow: auto;\n",
       "  }\n",
       "  table, th, td {\n",
       "    border: 1px solid black;\n",
       "    border-collapse: collapse;\n",
       "  }\n",
       "  th, td {\n",
       "    padding: 5px;\n",
       "  }\n",
       "  th {\n",
       "    text-align: left;\n",
       "  }\n",
       "</style><div class='table-result-container'><table class='table-result'><thead style='background-color: white'><tr><th>items_etag</th><th>items_id</th><th>items_kind</th><th>items_snippet_assignable</th><th>items_snippet_channelId</th><th>items_snippet_title</th></tr></thead><tbody><tr><td>\"m2yskBQFythfE4irbTIeOgYYfBU/Xy1mB4_yLrHy_BmKmPBggty2mZQ\"</td><td>1</td><td>youtube#videoCategory</td><td>true</td><td>UCBR8-60-B28hp2BmDPdntcQ</td><td>Film & Animation</td></tr><tr><td>\"m2yskBQFythfE4irbTIeOgYYfBU/UZ1oLIIz2dxIhO45ZTFR3a3NyTA\"</td><td>2</td><td>youtube#videoCategory</td><td>true</td><td>UCBR8-60-B28hp2BmDPdntcQ</td><td>Autos & Vehicles</td></tr><tr><td>\"m2yskBQFythfE4irbTIeOgYYfBU/nqRIq97-xe5XRZTxbknKFVe5Lmg\"</td><td>10</td><td>youtube#videoCategory</td><td>true</td><td>UCBR8-60-B28hp2BmDPdntcQ</td><td>Music</td></tr><tr><td>\"m2yskBQFythfE4irbTIeOgYYfBU/HwXKamM1Q20q9BN-oBJavSGkfDI\"</td><td>15</td><td>youtube#videoCategory</td><td>true</td><td>UCBR8-60-B28hp2BmDPdntcQ</td><td>Pets & Animals</td></tr><tr><td>\"m2yskBQFythfE4irbTIeOgYYfBU/9GQMSRjrZdHeb1OEM1XVQ9zbGec\"</td><td>17</td><td>youtube#videoCategory</td><td>true</td><td>UCBR8-60-B28hp2BmDPdntcQ</td><td>Sports</td></tr><tr><td>\"m2yskBQFythfE4irbTIeOgYYfBU/FJwVpGCVZ1yiJrqZbpqe68Sy_OE\"</td><td>18</td><td>youtube#videoCategory</td><td>false</td><td>UCBR8-60-B28hp2BmDPdntcQ</td><td>Short Movies</td></tr><tr><td>\"m2yskBQFythfE4irbTIeOgYYfBU/M-3iD9dwK7YJCafRf_DkLN8CouA\"</td><td>19</td><td>youtube#videoCategory</td><td>true</td><td>UCBR8-60-B28hp2BmDPdntcQ</td><td>Travel & Events</td></tr><tr><td>\"m2yskBQFythfE4irbTIeOgYYfBU/WmA0qYEfjWsAoyJFSw2zinhn2wM\"</td><td>20</td><td>youtube#videoCategory</td><td>true</td><td>UCBR8-60-B28hp2BmDPdntcQ</td><td>Gaming</td></tr><tr><td>\"m2yskBQFythfE4irbTIeOgYYfBU/EapFaGYG7K0StIXVf8aba249tdM\"</td><td>21</td><td>youtube#videoCategory</td><td>false</td><td>UCBR8-60-B28hp2BmDPdntcQ</td><td>Videoblogging</td></tr><tr><td>\"m2yskBQFythfE4irbTIeOgYYfBU/xId8RX7vRN8rqkbYZbNIytUQDRo\"</td><td>22</td><td>youtube#videoCategory</td><td>true</td><td>UCBR8-60-B28hp2BmDPdntcQ</td><td>People & Blogs</td></tr><tr><td>\"m2yskBQFythfE4irbTIeOgYYfBU/G9LHzQmx44rX2S5yaga_Aqtwz8M\"</td><td>23</td><td>youtube#videoCategory</td><td>true</td><td>UCBR8-60-B28hp2BmDPdntcQ</td><td>Comedy</td></tr><tr><td>\"m2yskBQFythfE4irbTIeOgYYfBU/UVB9oxX2Bvqa_w_y3vXSLVK5E_s\"</td><td>24</td><td>youtube#videoCategory</td><td>true</td><td>UCBR8-60-B28hp2BmDPdntcQ</td><td>Entertainment</td></tr><tr><td>\"m2yskBQFythfE4irbTIeOgYYfBU/QiLK0ZIrFoORdk_g2l_XR_ECjDc\"</td><td>25</td><td>youtube#videoCategory</td><td>true</td><td>UCBR8-60-B28hp2BmDPdntcQ</td><td>News & Politics</td></tr><tr><td>\"m2yskBQFythfE4irbTIeOgYYfBU/r6Ck6Z0_L0rG37VJQR200SGNA_w\"</td><td>26</td><td>youtube#videoCategory</td><td>true</td><td>UCBR8-60-B28hp2BmDPdntcQ</td><td>Howto & Style</td></tr><tr><td>\"m2yskBQFythfE4irbTIeOgYYfBU/EoYkczo9I3RCf96RveKTOgOPkUM\"</td><td>27</td><td>youtube#videoCategory</td><td>true</td><td>UCBR8-60-B28hp2BmDPdntcQ</td><td>Education</td></tr><tr><td>\"m2yskBQFythfE4irbTIeOgYYfBU/w5HjcTD82G_XA3xBctS30zS-JpQ\"</td><td>28</td><td>youtube#videoCategory</td><td>true</td><td>UCBR8-60-B28hp2BmDPdntcQ</td><td>Science & Technology</td></tr><tr><td>\"m2yskBQFythfE4irbTIeOgYYfBU/SalkJoBWq_smSEqiAx_qyri6Wa8\"</td><td>29</td><td>youtube#videoCategory</td><td>true</td><td>UCBR8-60-B28hp2BmDPdntcQ</td><td>Nonprofits & Activism</td></tr><tr><td>\"m2yskBQFythfE4irbTIeOgYYfBU/lL7uWDr_071CHxifjYG1tJrp4Uo\"</td><td>30</td><td>youtube#videoCategory</td><td>false</td><td>UCBR8-60-B28hp2BmDPdntcQ</td><td>Movies</td></tr><tr><td>\"m2yskBQFythfE4irbTIeOgYYfBU/WnuVfjO-PyFLO7NTRQIbrGE62nk\"</td><td>31</td><td>youtube#videoCategory</td><td>false</td><td>UCBR8-60-B28hp2BmDPdntcQ</td><td>Anime/Animation</td></tr><tr><td>\"m2yskBQFythfE4irbTIeOgYYfBU/ctpH2hGA_UZ3volJT_FTlOg9M00\"</td><td>32</td><td>youtube#videoCategory</td><td>false</td><td>UCBR8-60-B28hp2BmDPdntcQ</td><td>Action/Adventure</td></tr><tr><td>\"m2yskBQFythfE4irbTIeOgYYfBU/L0kR3-g1BAo5UD1PLVbQ7LkkDtQ\"</td><td>33</td><td>youtube#videoCategory</td><td>false</td><td>UCBR8-60-B28hp2BmDPdntcQ</td><td>Classics</td></tr><tr><td>\"m2yskBQFythfE4irbTIeOgYYfBU/pUZOAC_s9sfiwar639qr_wAB-aI\"</td><td>34</td><td>youtube#videoCategory</td><td>false</td><td>UCBR8-60-B28hp2BmDPdntcQ</td><td>Comedy</td></tr><tr><td>\"m2yskBQFythfE4irbTIeOgYYfBU/Xb5JLhtyNRN3AQq021Ds-OV50Jk\"</td><td>35</td><td>youtube#videoCategory</td><td>false</td><td>UCBR8-60-B28hp2BmDPdntcQ</td><td>Documentary</td></tr><tr><td>\"m2yskBQFythfE4irbTIeOgYYfBU/u8WXzF4HIhtEi805__sqjuA4lEk\"</td><td>36</td><td>youtube#videoCategory</td><td>false</td><td>UCBR8-60-B28hp2BmDPdntcQ</td><td>Drama</td></tr><tr><td>\"m2yskBQFythfE4irbTIeOgYYfBU/D04PP4Gr7wc4IV_O9G66Z4A8KWQ\"</td><td>37</td><td>youtube#videoCategory</td><td>false</td><td>UCBR8-60-B28hp2BmDPdntcQ</td><td>Family</td></tr><tr><td>\"m2yskBQFythfE4irbTIeOgYYfBU/i5-_AceGXQCEEMWU0V8CcQm_vLQ\"</td><td>38</td><td>youtube#videoCategory</td><td>false</td><td>UCBR8-60-B28hp2BmDPdntcQ</td><td>Foreign</td></tr><tr><td>\"m2yskBQFythfE4irbTIeOgYYfBU/rtlxd0zOixA9QHdIZB26-St5qgQ\"</td><td>39</td><td>youtube#videoCategory</td><td>false</td><td>UCBR8-60-B28hp2BmDPdntcQ</td><td>Horror</td></tr><tr><td>\"m2yskBQFythfE4irbTIeOgYYfBU/N1TrDFLRppxZgBowCJfJCvh0Dpg\"</td><td>40</td><td>youtube#videoCategory</td><td>false</td><td>UCBR8-60-B28hp2BmDPdntcQ</td><td>Sci-Fi/Fantasy</td></tr><tr><td>\"m2yskBQFythfE4irbTIeOgYYfBU/7UMGi6zRySqXopr_rv4sZq6Za2E\"</td><td>41</td><td>youtube#videoCategory</td><td>false</td><td>UCBR8-60-B28hp2BmDPdntcQ</td><td>Thriller</td></tr><tr><td>\"m2yskBQFythfE4irbTIeOgYYfBU/RScXhi324h8usyIetreAVb-uKeM\"</td><td>42</td><td>youtube#videoCategory</td><td>false</td><td>UCBR8-60-B28hp2BmDPdntcQ</td><td>Shorts</td></tr><tr><td>\"m2yskBQFythfE4irbTIeOgYYfBU/0n9MJVCDLpA8q7aiGVrFsuFsd0A\"</td><td>43</td><td>youtube#videoCategory</td><td>false</td><td>UCBR8-60-B28hp2BmDPdntcQ</td><td>Shows</td></tr><tr><td>\"m2yskBQFythfE4irbTIeOgYYfBU/x5NxSf5fz8hn4loSN4rvhwzD_pY\"</td><td>44</td><td>youtube#videoCategory</td><td>false</td><td>UCBR8-60-B28hp2BmDPdntcQ</td><td>Trailers</td></tr></tbody></table></div>"
      ]
     },
     "metadata": {
      "application/vnd.databricks.v1+output": {
       "addedWidgets": {},
       "aggData": [],
       "aggError": "",
       "aggOverflow": false,
       "aggSchema": [],
       "aggSeriesLimitReached": false,
       "aggType": "",
       "arguments": {},
       "columnCustomDisplayInfos": {},
       "data": [
        [
         "\"m2yskBQFythfE4irbTIeOgYYfBU/Xy1mB4_yLrHy_BmKmPBggty2mZQ\"",
         1,
         "youtube#videoCategory",
         true,
         "UCBR8-60-B28hp2BmDPdntcQ",
         "Film & Animation"
        ],
        [
         "\"m2yskBQFythfE4irbTIeOgYYfBU/UZ1oLIIz2dxIhO45ZTFR3a3NyTA\"",
         2,
         "youtube#videoCategory",
         true,
         "UCBR8-60-B28hp2BmDPdntcQ",
         "Autos & Vehicles"
        ],
        [
         "\"m2yskBQFythfE4irbTIeOgYYfBU/nqRIq97-xe5XRZTxbknKFVe5Lmg\"",
         10,
         "youtube#videoCategory",
         true,
         "UCBR8-60-B28hp2BmDPdntcQ",
         "Music"
        ],
        [
         "\"m2yskBQFythfE4irbTIeOgYYfBU/HwXKamM1Q20q9BN-oBJavSGkfDI\"",
         15,
         "youtube#videoCategory",
         true,
         "UCBR8-60-B28hp2BmDPdntcQ",
         "Pets & Animals"
        ],
        [
         "\"m2yskBQFythfE4irbTIeOgYYfBU/9GQMSRjrZdHeb1OEM1XVQ9zbGec\"",
         17,
         "youtube#videoCategory",
         true,
         "UCBR8-60-B28hp2BmDPdntcQ",
         "Sports"
        ],
        [
         "\"m2yskBQFythfE4irbTIeOgYYfBU/FJwVpGCVZ1yiJrqZbpqe68Sy_OE\"",
         18,
         "youtube#videoCategory",
         false,
         "UCBR8-60-B28hp2BmDPdntcQ",
         "Short Movies"
        ],
        [
         "\"m2yskBQFythfE4irbTIeOgYYfBU/M-3iD9dwK7YJCafRf_DkLN8CouA\"",
         19,
         "youtube#videoCategory",
         true,
         "UCBR8-60-B28hp2BmDPdntcQ",
         "Travel & Events"
        ],
        [
         "\"m2yskBQFythfE4irbTIeOgYYfBU/WmA0qYEfjWsAoyJFSw2zinhn2wM\"",
         20,
         "youtube#videoCategory",
         true,
         "UCBR8-60-B28hp2BmDPdntcQ",
         "Gaming"
        ],
        [
         "\"m2yskBQFythfE4irbTIeOgYYfBU/EapFaGYG7K0StIXVf8aba249tdM\"",
         21,
         "youtube#videoCategory",
         false,
         "UCBR8-60-B28hp2BmDPdntcQ",
         "Videoblogging"
        ],
        [
         "\"m2yskBQFythfE4irbTIeOgYYfBU/xId8RX7vRN8rqkbYZbNIytUQDRo\"",
         22,
         "youtube#videoCategory",
         true,
         "UCBR8-60-B28hp2BmDPdntcQ",
         "People & Blogs"
        ],
        [
         "\"m2yskBQFythfE4irbTIeOgYYfBU/G9LHzQmx44rX2S5yaga_Aqtwz8M\"",
         23,
         "youtube#videoCategory",
         true,
         "UCBR8-60-B28hp2BmDPdntcQ",
         "Comedy"
        ],
        [
         "\"m2yskBQFythfE4irbTIeOgYYfBU/UVB9oxX2Bvqa_w_y3vXSLVK5E_s\"",
         24,
         "youtube#videoCategory",
         true,
         "UCBR8-60-B28hp2BmDPdntcQ",
         "Entertainment"
        ],
        [
         "\"m2yskBQFythfE4irbTIeOgYYfBU/QiLK0ZIrFoORdk_g2l_XR_ECjDc\"",
         25,
         "youtube#videoCategory",
         true,
         "UCBR8-60-B28hp2BmDPdntcQ",
         "News & Politics"
        ],
        [
         "\"m2yskBQFythfE4irbTIeOgYYfBU/r6Ck6Z0_L0rG37VJQR200SGNA_w\"",
         26,
         "youtube#videoCategory",
         true,
         "UCBR8-60-B28hp2BmDPdntcQ",
         "Howto & Style"
        ],
        [
         "\"m2yskBQFythfE4irbTIeOgYYfBU/EoYkczo9I3RCf96RveKTOgOPkUM\"",
         27,
         "youtube#videoCategory",
         true,
         "UCBR8-60-B28hp2BmDPdntcQ",
         "Education"
        ],
        [
         "\"m2yskBQFythfE4irbTIeOgYYfBU/w5HjcTD82G_XA3xBctS30zS-JpQ\"",
         28,
         "youtube#videoCategory",
         true,
         "UCBR8-60-B28hp2BmDPdntcQ",
         "Science & Technology"
        ],
        [
         "\"m2yskBQFythfE4irbTIeOgYYfBU/SalkJoBWq_smSEqiAx_qyri6Wa8\"",
         29,
         "youtube#videoCategory",
         true,
         "UCBR8-60-B28hp2BmDPdntcQ",
         "Nonprofits & Activism"
        ],
        [
         "\"m2yskBQFythfE4irbTIeOgYYfBU/lL7uWDr_071CHxifjYG1tJrp4Uo\"",
         30,
         "youtube#videoCategory",
         false,
         "UCBR8-60-B28hp2BmDPdntcQ",
         "Movies"
        ],
        [
         "\"m2yskBQFythfE4irbTIeOgYYfBU/WnuVfjO-PyFLO7NTRQIbrGE62nk\"",
         31,
         "youtube#videoCategory",
         false,
         "UCBR8-60-B28hp2BmDPdntcQ",
         "Anime/Animation"
        ],
        [
         "\"m2yskBQFythfE4irbTIeOgYYfBU/ctpH2hGA_UZ3volJT_FTlOg9M00\"",
         32,
         "youtube#videoCategory",
         false,
         "UCBR8-60-B28hp2BmDPdntcQ",
         "Action/Adventure"
        ],
        [
         "\"m2yskBQFythfE4irbTIeOgYYfBU/L0kR3-g1BAo5UD1PLVbQ7LkkDtQ\"",
         33,
         "youtube#videoCategory",
         false,
         "UCBR8-60-B28hp2BmDPdntcQ",
         "Classics"
        ],
        [
         "\"m2yskBQFythfE4irbTIeOgYYfBU/pUZOAC_s9sfiwar639qr_wAB-aI\"",
         34,
         "youtube#videoCategory",
         false,
         "UCBR8-60-B28hp2BmDPdntcQ",
         "Comedy"
        ],
        [
         "\"m2yskBQFythfE4irbTIeOgYYfBU/Xb5JLhtyNRN3AQq021Ds-OV50Jk\"",
         35,
         "youtube#videoCategory",
         false,
         "UCBR8-60-B28hp2BmDPdntcQ",
         "Documentary"
        ],
        [
         "\"m2yskBQFythfE4irbTIeOgYYfBU/u8WXzF4HIhtEi805__sqjuA4lEk\"",
         36,
         "youtube#videoCategory",
         false,
         "UCBR8-60-B28hp2BmDPdntcQ",
         "Drama"
        ],
        [
         "\"m2yskBQFythfE4irbTIeOgYYfBU/D04PP4Gr7wc4IV_O9G66Z4A8KWQ\"",
         37,
         "youtube#videoCategory",
         false,
         "UCBR8-60-B28hp2BmDPdntcQ",
         "Family"
        ],
        [
         "\"m2yskBQFythfE4irbTIeOgYYfBU/i5-_AceGXQCEEMWU0V8CcQm_vLQ\"",
         38,
         "youtube#videoCategory",
         false,
         "UCBR8-60-B28hp2BmDPdntcQ",
         "Foreign"
        ],
        [
         "\"m2yskBQFythfE4irbTIeOgYYfBU/rtlxd0zOixA9QHdIZB26-St5qgQ\"",
         39,
         "youtube#videoCategory",
         false,
         "UCBR8-60-B28hp2BmDPdntcQ",
         "Horror"
        ],
        [
         "\"m2yskBQFythfE4irbTIeOgYYfBU/N1TrDFLRppxZgBowCJfJCvh0Dpg\"",
         40,
         "youtube#videoCategory",
         false,
         "UCBR8-60-B28hp2BmDPdntcQ",
         "Sci-Fi/Fantasy"
        ],
        [
         "\"m2yskBQFythfE4irbTIeOgYYfBU/7UMGi6zRySqXopr_rv4sZq6Za2E\"",
         41,
         "youtube#videoCategory",
         false,
         "UCBR8-60-B28hp2BmDPdntcQ",
         "Thriller"
        ],
        [
         "\"m2yskBQFythfE4irbTIeOgYYfBU/RScXhi324h8usyIetreAVb-uKeM\"",
         42,
         "youtube#videoCategory",
         false,
         "UCBR8-60-B28hp2BmDPdntcQ",
         "Shorts"
        ],
        [
         "\"m2yskBQFythfE4irbTIeOgYYfBU/0n9MJVCDLpA8q7aiGVrFsuFsd0A\"",
         43,
         "youtube#videoCategory",
         false,
         "UCBR8-60-B28hp2BmDPdntcQ",
         "Shows"
        ],
        [
         "\"m2yskBQFythfE4irbTIeOgYYfBU/x5NxSf5fz8hn4loSN4rvhwzD_pY\"",
         44,
         "youtube#videoCategory",
         false,
         "UCBR8-60-B28hp2BmDPdntcQ",
         "Trailers"
        ]
       ],
       "datasetInfos": [],
       "dbfsResultPath": null,
       "isJsonSchema": true,
       "metadata": {},
       "overflow": false,
       "plotOptions": {
        "customPlotOptions": {},
        "displayType": "table",
        "pivotAggregation": null,
        "pivotColumns": null,
        "xColumns": null,
        "yColumns": null
       },
       "removedWidgets": [],
       "schema": [
        {
         "metadata": "{}",
         "name": "items_etag",
         "type": "\"string\""
        },
        {
         "metadata": "{}",
         "name": "items_id",
         "type": "\"integer\""
        },
        {
         "metadata": "{}",
         "name": "items_kind",
         "type": "\"string\""
        },
        {
         "metadata": "{}",
         "name": "items_snippet_assignable",
         "type": "\"boolean\""
        },
        {
         "metadata": "{}",
         "name": "items_snippet_channelId",
         "type": "\"string\""
        },
        {
         "metadata": "{}",
         "name": "items_snippet_title",
         "type": "\"string\""
        }
       ],
       "type": "table"
      }
     },
     "output_type": "display_data"
    }
   ],
   "source": [
    "display(df_output)"
   ]
  },
  {
   "cell_type": "code",
   "execution_count": 0,
   "metadata": {
    "application/vnd.databricks.v1+cell": {
     "cellMetadata": {
      "byteLimit": 2048000,
      "rowLimit": 10000
     },
     "inputWidgets": {},
     "nuid": "a72cee65-7af2-4e2f-b949-34117b8a0c05",
     "showTitle": false,
     "title": ""
    }
   },
   "outputs": [
    {
     "output_type": "stream",
     "name": "stdout",
     "output_type": "stream",
     "text": [
      "32\n"
     ]
    }
   ],
   "source": [
    "df_count = df_output.count()\n",
    "print(df_count)"
   ]
  }
 ],
 "metadata": {
  "application/vnd.databricks.v1+notebook": {
   "dashboards": [],
   "language": "python",
   "notebookMetadata": {
    "mostRecentlyExecutedCommandWithImplicitDF": {
     "commandId": 1882801182769760,
     "dataframes": [
      "_sqldf"
     ]
    },
    "pythonIndentUnit": 4
   },
   "notebookName": "Youtube statistics projectII",
   "widgets": {}
  }
 },
 "nbformat": 4,
 "nbformat_minor": 0
}
